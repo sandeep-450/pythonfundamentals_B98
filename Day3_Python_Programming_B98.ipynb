{
 "cells": [
  {
   "cell_type": "code",
   "execution_count": null,
   "id": "aaac44e0",
   "metadata": {},
   "outputs": [],
   "source": [
    "Continuation of Strings"
   ]
  },
  {
   "cell_type": "code",
   "execution_count": 1,
   "id": "e2fcef45",
   "metadata": {},
   "outputs": [
    {
     "name": "stdout",
     "output_type": "stream",
     "text": [
      "dinesh\n"
     ]
    }
   ],
   "source": [
    "name='dinesh'\n",
    "print(name)"
   ]
  },
  {
   "cell_type": "code",
   "execution_count": 2,
   "id": "adca46e1",
   "metadata": {},
   "outputs": [
    {
     "name": "stdout",
     "output_type": "stream",
     "text": [
      "Dinesh\n"
     ]
    }
   ],
   "source": [
    "print(name.title())"
   ]
  },
  {
   "cell_type": "code",
   "execution_count": 3,
   "id": "db973620",
   "metadata": {},
   "outputs": [
    {
     "data": {
      "text/plain": [
       "str"
      ]
     },
     "execution_count": 3,
     "metadata": {},
     "output_type": "execute_result"
    }
   ],
   "source": [
    "type(name)"
   ]
  },
  {
   "cell_type": "code",
   "execution_count": 4,
   "id": "a4c8cec0",
   "metadata": {},
   "outputs": [
    {
     "name": "stdout",
     "output_type": "stream",
     "text": [
      "dinesh sahu\n",
      "Dinesh Sahu\n"
     ]
    }
   ],
   "source": [
    "fullname='dinesh sahu'\n",
    "print(fullname)\n",
    "print(fullname.title())"
   ]
  },
  {
   "cell_type": "code",
   "execution_count": 5,
   "id": "133ea81f",
   "metadata": {},
   "outputs": [
    {
     "name": "stdout",
     "output_type": "stream",
     "text": [
      "DINESH SAHU\n",
      "dinesh sahu\n"
     ]
    }
   ],
   "source": [
    "print(fullname.upper())\n",
    "print(fullname.lower())"
   ]
  },
  {
   "cell_type": "code",
   "execution_count": null,
   "id": "ff31482a",
   "metadata": {},
   "outputs": [],
   "source": [
    "Below are the methods which mostly like functions which are available in python\n",
    "title()\n",
    "upper()\n",
    "lower()"
   ]
  },
  {
   "cell_type": "code",
   "execution_count": null,
   "id": "5c441fae",
   "metadata": {},
   "outputs": [],
   "source": [
    "f string introduction and general syntax of f strings"
   ]
  },
  {
   "cell_type": "code",
   "execution_count": null,
   "id": "d04db8f8",
   "metadata": {},
   "outputs": [],
   "source": [
    "f\"custom_message {placeholder1} {placeholder2}...... {placeholdern}\""
   ]
  },
  {
   "cell_type": "code",
   "execution_count": 7,
   "id": "13814fac",
   "metadata": {},
   "outputs": [
    {
     "name": "stdout",
     "output_type": "stream",
     "text": [
      "sana kauser\n"
     ]
    }
   ],
   "source": [
    "firstname='sana'\n",
    "lastname='kauser'\n",
    "fullname=f\"{firstname} {lastname}\"\n",
    "print(fullname)"
   ]
  },
  {
   "cell_type": "code",
   "execution_count": 10,
   "id": "56e3820d",
   "metadata": {},
   "outputs": [
    {
     "name": "stdout",
     "output_type": "stream",
     "text": [
      "Sana Kauser\n",
      "SANA KAUSER\n",
      "Keep up good work Sana Kauser\n"
     ]
    }
   ],
   "source": [
    "print(fullname.title())\n",
    "print(fullname.upper())\n",
    "message=f\"Keep up good work {fullname.title()}\"\n",
    "print(message)"
   ]
  },
  {
   "cell_type": "code",
   "execution_count": null,
   "id": "426319e9",
   "metadata": {},
   "outputs": [],
   "source": [
    "Adding white spaces to strings. \n",
    "\\n - new line delimiter\n",
    "\\t - tab delimiter"
   ]
  },
  {
   "cell_type": "code",
   "execution_count": 11,
   "id": "1cffa6ae",
   "metadata": {},
   "outputs": [
    {
     "name": "stdout",
     "output_type": "stream",
     "text": [
      "favourite_programming: pythonjavac++javascriptswift\n"
     ]
    }
   ],
   "source": [
    "print('favourite_programming: pythonjavac++javascriptswift')"
   ]
  },
  {
   "cell_type": "code",
   "execution_count": 12,
   "id": "d03e541e",
   "metadata": {},
   "outputs": [
    {
     "name": "stdout",
     "output_type": "stream",
     "text": [
      "favourite_programming: \n",
      "python\n",
      "java\n",
      "c++\n",
      "javascript\n",
      "swift\n"
     ]
    }
   ],
   "source": [
    "print('favourite_programming: \\npython\\njava\\nc++\\njavascript\\nswift')"
   ]
  },
  {
   "cell_type": "code",
   "execution_count": 13,
   "id": "dfac1eab",
   "metadata": {},
   "outputs": [
    {
     "name": "stdout",
     "output_type": "stream",
     "text": [
      "favourite_programming: \n",
      "\tpython\n",
      "\tjava\n",
      "\tc++\n",
      "\tjavascript\n",
      "\tswift\n",
      "favourite_programming: \n",
      "\tpython\n",
      "\tjava\n",
      "\tc++\n",
      "\n",
      "\tjavascript\n",
      "\tswift\n"
     ]
    }
   ],
   "source": [
    "print('favourite_programming: \\n\\tpython\\n\\tjava\\n\\tc++\\n\\tjavascript\\n\\tswift')\n",
    "print('favourite_programming: \\n\\tpython\\n\\tjava\\n\\tc++\\n\\n\\tjavascript\\n\\tswift')"
   ]
  },
  {
   "cell_type": "code",
   "execution_count": null,
   "id": "9d8edfd1",
   "metadata": {},
   "outputs": [],
   "source": []
  }
 ],
 "metadata": {
  "kernelspec": {
   "display_name": "Python 3 (ipykernel)",
   "language": "python",
   "name": "python3"
  },
  "language_info": {
   "codemirror_mode": {
    "name": "ipython",
    "version": 3
   },
   "file_extension": ".py",
   "mimetype": "text/x-python",
   "name": "python",
   "nbconvert_exporter": "python",
   "pygments_lexer": "ipython3",
   "version": "3.9.7"
  }
 },
 "nbformat": 4,
 "nbformat_minor": 5
}
