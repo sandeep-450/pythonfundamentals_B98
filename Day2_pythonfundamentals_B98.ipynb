{
 "cells": [
  {
   "cell_type": "code",
   "execution_count": null,
   "id": "62063654",
   "metadata": {},
   "outputs": [],
   "source": [
    "To execute a cell, we need to press Shift+ Enter\n",
    "To create new cell, we need to press '+' symbol"
   ]
  },
  {
   "cell_type": "code",
   "execution_count": null,
   "id": "33ba0f63",
   "metadata": {},
   "outputs": [],
   "source": [
    "Today's topic is about variables and its understanding"
   ]
  },
  {
   "cell_type": "code",
   "execution_count": 1,
   "id": "58f1bdfa",
   "metadata": {},
   "outputs": [
    {
     "name": "stdout",
     "output_type": "stream",
     "text": [
      "5\n"
     ]
    }
   ],
   "source": [
    "a=3\n",
    "b=2\n",
    "c=a+b\n",
    "print(c)"
   ]
  },
  {
   "cell_type": "code",
   "execution_count": 4,
   "id": "e2e397b1",
   "metadata": {},
   "outputs": [
    {
     "name": "stdout",
     "output_type": "stream",
     "text": [
      "6\n"
     ]
    }
   ],
   "source": [
    "a=4\n",
    "c=a+b\n",
    "print(c)"
   ]
  },
  {
   "cell_type": "code",
   "execution_count": null,
   "id": "dae4c841",
   "metadata": {},
   "outputs": [],
   "source": [
    "Variable declaration rules\n",
    "Rule 1. No Namespace for declaring the variable names\n",
    "Bad Example : first name = 'Faiyaz'\n",
    "Good Example : firstname = 'Faiyaz'"
   ]
  },
  {
   "cell_type": "code",
   "execution_count": 7,
   "id": "13807283",
   "metadata": {},
   "outputs": [
    {
     "ename": "SyntaxError",
     "evalue": "invalid syntax (Temp/ipykernel_8196/2642777287.py, line 1)",
     "output_type": "error",
     "traceback": [
      "\u001b[1;36m  File \u001b[1;32m\"C:\\Users\\SAGALA~1\\AppData\\Local\\Temp/ipykernel_8196/2642777287.py\"\u001b[1;36m, line \u001b[1;32m1\u001b[0m\n\u001b[1;33m    first name = 'Faiyaz'\u001b[0m\n\u001b[1;37m          ^\u001b[0m\n\u001b[1;31mSyntaxError\u001b[0m\u001b[1;31m:\u001b[0m invalid syntax\n"
     ]
    }
   ],
   "source": [
    "first name = 'Faiyaz'\n",
    "print(first name)"
   ]
  },
  {
   "cell_type": "code",
   "execution_count": 9,
   "id": "d8b09d46",
   "metadata": {},
   "outputs": [
    {
     "name": "stdout",
     "output_type": "stream",
     "text": [
      "Faiyaz\n"
     ]
    }
   ],
   "source": [
    "firstname = 'Faiyaz'\n",
    "print(firstname)"
   ]
  },
  {
   "cell_type": "code",
   "execution_count": 11,
   "id": "7eb83e15",
   "metadata": {},
   "outputs": [
    {
     "ename": "SyntaxError",
     "evalue": "invalid syntax (Temp/ipykernel_8196/603210510.py, line 1)",
     "output_type": "error",
     "traceback": [
      "\u001b[1;36m  File \u001b[1;32m\"C:\\Users\\SAGALA~1\\AppData\\Local\\Temp/ipykernel_8196/603210510.py\"\u001b[1;36m, line \u001b[1;32m1\u001b[0m\n\u001b[1;33m    Rule 2. A variable name should not start with numerical value\u001b[0m\n\u001b[1;37m         ^\u001b[0m\n\u001b[1;31mSyntaxError\u001b[0m\u001b[1;31m:\u001b[0m invalid syntax\n"
     ]
    }
   ],
   "source": [
    "Rule 2. A variable name should not start with numerical value\n",
    "Bad Example: 3name='Hari'\n",
    "Good Example: name3='Hari'"
   ]
  },
  {
   "cell_type": "code",
   "execution_count": 12,
   "id": "4c79dedf",
   "metadata": {},
   "outputs": [
    {
     "ename": "SyntaxError",
     "evalue": "invalid syntax (Temp/ipykernel_8196/2536304516.py, line 1)",
     "output_type": "error",
     "traceback": [
      "\u001b[1;36m  File \u001b[1;32m\"C:\\Users\\SAGALA~1\\AppData\\Local\\Temp/ipykernel_8196/2536304516.py\"\u001b[1;36m, line \u001b[1;32m1\u001b[0m\n\u001b[1;33m    3name='Hari'\u001b[0m\n\u001b[1;37m     ^\u001b[0m\n\u001b[1;31mSyntaxError\u001b[0m\u001b[1;31m:\u001b[0m invalid syntax\n"
     ]
    }
   ],
   "source": [
    " 3name='Hari'\n",
    "print(3name)"
   ]
  },
  {
   "cell_type": "code",
   "execution_count": 13,
   "id": "af72da51",
   "metadata": {},
   "outputs": [
    {
     "name": "stdout",
     "output_type": "stream",
     "text": [
      "Hari\n"
     ]
    }
   ],
   "source": [
    "name3='Hari'\n",
    "print(name3)"
   ]
  },
  {
   "cell_type": "code",
   "execution_count": null,
   "id": "734385f5",
   "metadata": {},
   "outputs": [],
   "source": [
    "Rule 3. A variable name should not contain any special characters. Special characters are @ # $ % & * ! \n",
    "Bad example: name% = 'Ramesh'\n",
    "Good Example: name = 'Ramesh'"
   ]
  },
  {
   "cell_type": "code",
   "execution_count": null,
   "id": "5f4cf71b",
   "metadata": {},
   "outputs": [],
   "source": []
  },
  {
   "cell_type": "code",
   "execution_count": null,
   "id": "14c2820e",
   "metadata": {},
   "outputs": [],
   "source": [
    "Data Types in Python\n",
    "Strings   ===  str\n",
    "Numbers   ===  int float\n",
    "Lists     ===  list\n",
    "Tuples    ===  tuple\n",
    "Dictionaries    === dict\n",
    "\n",
    "Float is nothing but decimal numbers like 9.2, 0.1, 4.53 "
   ]
  },
  {
   "cell_type": "code",
   "execution_count": null,
   "id": "640b9dd2",
   "metadata": {},
   "outputs": [],
   "source": [
    "Datatypes are classfied in python are of two types \n",
    "Mutable(Can edit/alter) & immutable(Cannot edit/alter)"
   ]
  },
  {
   "cell_type": "code",
   "execution_count": null,
   "id": "60bcd3b0",
   "metadata": {},
   "outputs": [],
   "source": [
    "String datatype\n",
    "\n",
    "Def: String a series of factors declared in quotes. \n",
    "    String is classified as immutable datatype.\n",
    "\n",
    "Declaring string can be done in Single quote or Double quote  ''   or \"\" "
   ]
  },
  {
   "cell_type": "code",
   "execution_count": 15,
   "id": "37ecb987",
   "metadata": {},
   "outputs": [
    {
     "name": "stdout",
     "output_type": "stream",
     "text": [
      "muskan\n",
      "Ramesh\n"
     ]
    }
   ],
   "source": [
    "name='muskan'\n",
    "name1=\"Ramesh\"\n",
    "print(name)\n",
    "print(name1)"
   ]
  },
  {
   "cell_type": "code",
   "execution_count": null,
   "id": "52c03cf1",
   "metadata": {},
   "outputs": [],
   "source": []
  },
  {
   "cell_type": "code",
   "execution_count": null,
   "id": "331fcdc9",
   "metadata": {},
   "outputs": [],
   "source": []
  },
  {
   "cell_type": "code",
   "execution_count": null,
   "id": "046261aa",
   "metadata": {},
   "outputs": [],
   "source": []
  },
  {
   "cell_type": "code",
   "execution_count": null,
   "id": "1cb296b6",
   "metadata": {},
   "outputs": [],
   "source": []
  }
 ],
 "metadata": {
  "kernelspec": {
   "display_name": "Python 3 (ipykernel)",
   "language": "python",
   "name": "python3"
  },
  "language_info": {
   "codemirror_mode": {
    "name": "ipython",
    "version": 3
   },
   "file_extension": ".py",
   "mimetype": "text/x-python",
   "name": "python",
   "nbconvert_exporter": "python",
   "pygments_lexer": "ipython3",
   "version": "3.9.7"
  }
 },
 "nbformat": 4,
 "nbformat_minor": 5
}
