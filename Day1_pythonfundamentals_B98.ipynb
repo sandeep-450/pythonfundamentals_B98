{
 "cells": [
  {
   "cell_type": "code",
   "execution_count": null,
   "id": "03049809-3904-4977-a011-4dbc93d92b47",
   "metadata": {},
   "outputs": [],
   "source": []
  }
 ],
 "metadata": {
  "kernelspec": {
   "display_name": "",
   "name": ""
  },
  "language_info": {
   "name": ""
  }
 },
 "nbformat": 4,
 "nbformat_minor": 5
}
